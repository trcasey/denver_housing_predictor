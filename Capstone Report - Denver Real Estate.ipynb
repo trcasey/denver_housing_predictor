{
 "cells": [
  {
   "cell_type": "markdown",
   "metadata": {},
   "source": [
    "## 1. Introduction\n",
    "\n",
    "My wife and I have recently started to consider what life might look like after New York City. She's been here 15 years and I've been here 10 and we both agree that it's time for a change. One of the cities at the top of our list is Denver, Colorado and one of the appealing features of the city is that, unlike New York, we could afford to buy a house there. This got me thinking--how can I use data science to learn more about the real estate situation in Denver? \n",
    "\n",
    "We aren't looking to buy immediately, so my data analysis will focus on finding factors (both favorable and unfavorable) that affect buyers.\n",
    "\n",
    "Fortunately for me, Denver has a great open data catalog: https://www.denvergov.org/opendata/. One of the datasets available is [Real Property Sales and Transfers](https://www.denvergov.org/opendata/dataset/city-and-county-of-denver-real-property-sales-and-transfers) which contains all records of property ownership transfers from 2008 to the present. What luck! A second dataset titled [Real Property Residential Characteristics](https://www.denvergov.org/opendata/dataset/city-and-county-of-denver-real-property-residential-characteristics) will be used to add additional information such as number of bedrooms and square footage to my analysis."
   ]
  },
  {
   "cell_type": "markdown",
   "metadata": {},
   "source": [
    "## 2. The Datasets\n",
    "\n",
    "The Real Property Sales and Transfers dataset includes records of all sales and transfers of property in Denver. The Real Property Residential Characteristics dataset contains information about each home such as number of bedrooms and square footage. There are several duplicate columns between the two datasets, so I can be more selective in which columns are imported. \n",
    "\n",
    "Both datasets are in relatively good shape and don't require much work to clean."
   ]
  },
  {
   "cell_type": "code",
   "execution_count": 1,
   "metadata": {
    "collapsed": true
   },
   "outputs": [],
   "source": [
    "import numpy as np\n",
    "import pandas as pd\n",
    "import matplotlib.pyplot as plt\n",
    "import seaborn as sns\n",
    "from datetime import datetime\n",
    "from xml.etree import ElementTree as ET\n",
    "from sklearn.linear_model import LinearRegression\n",
    "from sklearn.cross_validation import KFold\n",
    "from sklearn.cross_validation import train_test_split\n",
    "from sklearn.metrics import mean_squared_error\n",
    "from sklearn import metrics\n",
    "\n",
    "plt.style.use('ggplot')\n",
    "\n",
    "%matplotlib inline\n",
    "\n",
    "pd.set_option('display.max_columns', 500)\n",
    "pd.set_option('display.max_rows', 1000)\n",
    "pd.set_option('display.float_format', lambda x: '%.3f' % x)"
   ]
  },
  {
   "cell_type": "code",
   "execution_count": 2,
   "metadata": {
    "collapsed": false
   },
   "outputs": [
    {
     "name": "stderr",
     "output_type": "stream",
     "text": [
      "C:\\Users\\Trent\\Anaconda2\\lib\\site-packages\\IPython\\core\\interactiveshell.py:2723: DtypeWarning: Columns (1) have mixed types. Specify dtype option on import or set low_memory=False.\n",
      "  interactivity=interactivity, compiler=compiler, result=result)\n",
      "Skipping line 63332: expected 46 fields, saw 47\n",
      "Skipping line 63335: expected 46 fields, saw 47\n",
      "Skipping line 63338: expected 46 fields, saw 47\n",
      "\n",
      "Skipping line 68348: expected 46 fields, saw 48\n",
      "Skipping line 69469: expected 46 fields, saw 47\n",
      "Skipping line 69470: expected 46 fields, saw 47\n",
      "Skipping line 69471: expected 46 fields, saw 47\n",
      "Skipping line 69472: expected 46 fields, saw 47\n",
      "\n"
     ]
    }
   ],
   "source": [
    "df_sales = pd.read_csv('datasets/real_property_sales_and_transfers.csv')\n",
    "df_characteristics = pd.read_csv('datasets/real_property_residential_characteristics.csv', usecols=['PIN',\n",
    "                                                                                          'LAND_SQFT',\n",
    "                                                                                          'AREA_ABG',\n",
    "                                                                                          'BSMT_AREA', \n",
    "                                                                                          'FBSMT_SQFT',\n",
    "                                                                                          'GRD_AREA',\n",
    "                                                                                          'BED_RMS',\n",
    "                                                                                          'FULL_B',\n",
    "                                                                                          'HLF_B',\n",
    "                                                                                          'STYLE_CN',\n",
    "                                                                                          'STORY',\n",
    "                                                                                          'CCYRBLT',\n",
    "                                                                                          'CCAGE_RM',\n",
    "                                                                                          'ASMT_APPR_LAND',\n",
    "                                                                                          'TOTAL_VALUE',\n",
    "                                                                                          'ASDLAND',\n",
    "                                                                                          'ASSESS_VALUE',\n",
    "                                                                                          'ASMT_TAXABLE',\n",
    "                                                                                          'ASMT_EXEMPT_AMT',\n",
    "                                                                                          'LEGL_DESCRIPTION'], \n",
    "                                                                                          error_bad_lines=False)"
   ]
  },
  {
   "cell_type": "markdown",
   "metadata": {},
   "source": [
    "### df_sales Data Dictionary"
   ]
  },
  {
   "cell_type": "code",
   "execution_count": 3,
   "metadata": {
    "collapsed": false
   },
   "outputs": [
    {
     "data": {
      "text/html": [
       "<div>\n",
       "<table border=\"1\" class=\"dataframe\">\n",
       "  <thead>\n",
       "    <tr style=\"text-align: right;\">\n",
       "      <th></th>\n",
       "      <th>Field Name</th>\n",
       "      <th>Example</th>\n",
       "      <th>Column Type</th>\n",
       "      <th>Description</th>\n",
       "    </tr>\n",
       "  </thead>\n",
       "  <tbody>\n",
       "    <tr>\n",
       "      <th>0</th>\n",
       "      <td>PIN</td>\n",
       "      <td>163752899</td>\n",
       "      <td>Text</td>\n",
       "      <td>Assessor's Property Identification Number</td>\n",
       "    </tr>\n",
       "    <tr>\n",
       "      <th>1</th>\n",
       "      <td>SCHEDNUM</td>\n",
       "      <td>0231416005000</td>\n",
       "      <td>Text</td>\n",
       "      <td>Assessor's Schedule Number</td>\n",
       "    </tr>\n",
       "    <tr>\n",
       "      <th>2</th>\n",
       "      <td>RECEPTION_NUM</td>\n",
       "      <td>2011148564</td>\n",
       "      <td>Text</td>\n",
       "      <td>Clerk &amp; Recorder's Reception Number</td>\n",
       "    </tr>\n",
       "    <tr>\n",
       "      <th>3</th>\n",
       "      <td>RECEPTION_DATE</td>\n",
       "      <td>20101004</td>\n",
       "      <td>Text</td>\n",
       "      <td>Clerk &amp; Recorder's Reception Date</td>\n",
       "    </tr>\n",
       "    <tr>\n",
       "      <th>4</th>\n",
       "      <td>INSTRUMENT</td>\n",
       "      <td>WD</td>\n",
       "      <td>Text</td>\n",
       "      <td>Type of Instrument</td>\n",
       "    </tr>\n",
       "    <tr>\n",
       "      <th>5</th>\n",
       "      <td>SALE_YEAR</td>\n",
       "      <td>2010</td>\n",
       "      <td>Text</td>\n",
       "      <td>Sale Year</td>\n",
       "    </tr>\n",
       "    <tr>\n",
       "      <th>6</th>\n",
       "      <td>SALE_MONTHDAY</td>\n",
       "      <td>0928</td>\n",
       "      <td>Text</td>\n",
       "      <td>Sale Month/Day</td>\n",
       "    </tr>\n",
       "    <tr>\n",
       "      <th>7</th>\n",
       "      <td>SALE_PRICE</td>\n",
       "      <td>199677</td>\n",
       "      <td>Text</td>\n",
       "      <td>Sale Price</td>\n",
       "    </tr>\n",
       "    <tr>\n",
       "      <th>8</th>\n",
       "      <td>GRANTOR</td>\n",
       "      <td>SMITH, JOHN &amp; JANE</td>\n",
       "      <td>Text</td>\n",
       "      <td>Person(s) relinquishing ownership</td>\n",
       "    </tr>\n",
       "    <tr>\n",
       "      <th>9</th>\n",
       "      <td>GRANTEE</td>\n",
       "      <td>BROWN, JAMES</td>\n",
       "      <td>Text</td>\n",
       "      <td>Person(s) recieving ownership</td>\n",
       "    </tr>\n",
       "    <tr>\n",
       "      <th>10</th>\n",
       "      <td>D_CLASS_CN</td>\n",
       "      <td>SINGLE FAMILY</td>\n",
       "      <td>Text</td>\n",
       "      <td>Property Use Class(D-CLASS) Definition</td>\n",
       "    </tr>\n",
       "    <tr>\n",
       "      <th>11</th>\n",
       "      <td>NBHD_1</td>\n",
       "      <td>248</td>\n",
       "      <td>Double</td>\n",
       "      <td>Neighborhood code</td>\n",
       "    </tr>\n",
       "    <tr>\n",
       "      <th>12</th>\n",
       "      <td>NBHD_1_CN</td>\n",
       "      <td>E SLOANS LAKE</td>\n",
       "      <td>Text</td>\n",
       "      <td>Neighborhood name</td>\n",
       "    </tr>\n",
       "  </tbody>\n",
       "</table>\n",
       "</div>"
      ],
      "text/plain": [
       "        Field Name             Example Column Type  \\\n",
       "0              PIN           163752899        Text   \n",
       "1         SCHEDNUM       0231416005000        Text   \n",
       "2    RECEPTION_NUM          2011148564        Text   \n",
       "3   RECEPTION_DATE            20101004        Text   \n",
       "4       INSTRUMENT                  WD        Text   \n",
       "5        SALE_YEAR                2010        Text   \n",
       "6    SALE_MONTHDAY                0928        Text   \n",
       "7       SALE_PRICE              199677        Text   \n",
       "8          GRANTOR  SMITH, JOHN & JANE        Text   \n",
       "9          GRANTEE        BROWN, JAMES        Text   \n",
       "10      D_CLASS_CN       SINGLE FAMILY        Text   \n",
       "11          NBHD_1                 248      Double   \n",
       "12       NBHD_1_CN       E SLOANS LAKE        Text   \n",
       "\n",
       "                                  Description  \n",
       "0   Assessor's Property Identification Number  \n",
       "1                  Assessor's Schedule Number  \n",
       "2         Clerk & Recorder's Reception Number  \n",
       "3           Clerk & Recorder's Reception Date  \n",
       "4                          Type of Instrument  \n",
       "5                                   Sale Year  \n",
       "6                              Sale Month/Day  \n",
       "7                                  Sale Price  \n",
       "8           Person(s) relinquishing ownership  \n",
       "9               Person(s) recieving ownership  \n",
       "10     Property Use Class(D-CLASS) Definition  \n",
       "11                          Neighborhood code  \n",
       "12                          Neighborhood name  "
      ]
     },
     "execution_count": 3,
     "metadata": {},
     "output_type": "execute_result"
    }
   ],
   "source": [
    "sales_dict = pd.read_excel('datasets/RealPropertyMetaData.xlsx', sheetname='Sales_Transfers', header=3, parse_cols=[1,2,3,5])\n",
    "sales_dict"
   ]
  },
  {
   "cell_type": "markdown",
   "metadata": {},
   "source": [
    "### df_characteristics Data Dictionary"
   ]
  },
  {
   "cell_type": "code",
   "execution_count": 4,
   "metadata": {
    "collapsed": false
   },
   "outputs": [
    {
     "data": {
      "text/html": [
       "<div>\n",
       "<table border=\"1\" class=\"dataframe\">\n",
       "  <thead>\n",
       "    <tr style=\"text-align: right;\">\n",
       "      <th></th>\n",
       "      <th>Field Name</th>\n",
       "      <th>Example</th>\n",
       "      <th>Column Type</th>\n",
       "      <th>Description</th>\n",
       "    </tr>\n",
       "  </thead>\n",
       "  <tbody>\n",
       "    <tr>\n",
       "      <th>0</th>\n",
       "      <td>PIN</td>\n",
       "      <td>161714761</td>\n",
       "      <td>Text</td>\n",
       "      <td>Assessor's Property Identification Number</td>\n",
       "    </tr>\n",
       "    <tr>\n",
       "      <th>1</th>\n",
       "      <td>LAND_SQFT</td>\n",
       "      <td>6241</td>\n",
       "      <td>Long Integer</td>\n",
       "      <td>Land Area</td>\n",
       "    </tr>\n",
       "    <tr>\n",
       "      <th>2</th>\n",
       "      <td>AREA_ABG</td>\n",
       "      <td>1411</td>\n",
       "      <td>Long Integer</td>\n",
       "      <td>Above Grade Improvement Area</td>\n",
       "    </tr>\n",
       "    <tr>\n",
       "      <th>3</th>\n",
       "      <td>BSMT_AREA</td>\n",
       "      <td>389</td>\n",
       "      <td>Long Integer</td>\n",
       "      <td>Basement Square Footage</td>\n",
       "    </tr>\n",
       "    <tr>\n",
       "      <th>4</th>\n",
       "      <td>FBSMT_SQFT</td>\n",
       "      <td>389</td>\n",
       "      <td>Long Integer</td>\n",
       "      <td>Finished Basement Area</td>\n",
       "    </tr>\n",
       "    <tr>\n",
       "      <th>5</th>\n",
       "      <td>GRD_AREA</td>\n",
       "      <td>0</td>\n",
       "      <td>Long Integer</td>\n",
       "      <td>Garden Level Square Footage</td>\n",
       "    </tr>\n",
       "    <tr>\n",
       "      <th>6</th>\n",
       "      <td>STORY</td>\n",
       "      <td>1</td>\n",
       "      <td>Float</td>\n",
       "      <td>Stories</td>\n",
       "    </tr>\n",
       "    <tr>\n",
       "      <th>7</th>\n",
       "      <td>STYLE_CN</td>\n",
       "      <td>TWO-STORY</td>\n",
       "      <td>Text</td>\n",
       "      <td>Architecture Style Code Definition</td>\n",
       "    </tr>\n",
       "    <tr>\n",
       "      <th>8</th>\n",
       "      <td>BED_RMS</td>\n",
       "      <td>3</td>\n",
       "      <td>Short Integer</td>\n",
       "      <td>Number of bedroom above grade</td>\n",
       "    </tr>\n",
       "    <tr>\n",
       "      <th>9</th>\n",
       "      <td>FULL_B</td>\n",
       "      <td>2</td>\n",
       "      <td>Short Integer</td>\n",
       "      <td>Total number of full baths</td>\n",
       "    </tr>\n",
       "    <tr>\n",
       "      <th>10</th>\n",
       "      <td>HLF_B</td>\n",
       "      <td>1</td>\n",
       "      <td>Short Integer</td>\n",
       "      <td>Total number of half baths</td>\n",
       "    </tr>\n",
       "    <tr>\n",
       "      <th>11</th>\n",
       "      <td>CCYRBLT</td>\n",
       "      <td>1958</td>\n",
       "      <td>Long Integer</td>\n",
       "      <td>Year Built</td>\n",
       "    </tr>\n",
       "    <tr>\n",
       "      <th>12</th>\n",
       "      <td>CCAGE_RM</td>\n",
       "      <td>2004</td>\n",
       "      <td>Long Integer</td>\n",
       "      <td>Remodel Year</td>\n",
       "    </tr>\n",
       "    <tr>\n",
       "      <th>13</th>\n",
       "      <td>ASMT_APPR_LAND</td>\n",
       "      <td>62400</td>\n",
       "      <td>Long Integer</td>\n",
       "      <td>Actual Land Value</td>\n",
       "    </tr>\n",
       "    <tr>\n",
       "      <th>14</th>\n",
       "      <td>TOTAL_VALUE</td>\n",
       "      <td>261700</td>\n",
       "      <td>Long Integer</td>\n",
       "      <td>Actual Total Value</td>\n",
       "    </tr>\n",
       "    <tr>\n",
       "      <th>15</th>\n",
       "      <td>ASDLAND</td>\n",
       "      <td>18096</td>\n",
       "      <td>Long Integer</td>\n",
       "      <td>Assessed Land Value</td>\n",
       "    </tr>\n",
       "    <tr>\n",
       "      <th>16</th>\n",
       "      <td>ASSESS_VALUE</td>\n",
       "      <td>75893</td>\n",
       "      <td>Long Integer</td>\n",
       "      <td>Assessed Total Value</td>\n",
       "    </tr>\n",
       "    <tr>\n",
       "      <th>17</th>\n",
       "      <td>ASMT_TAXABLE</td>\n",
       "      <td>524220</td>\n",
       "      <td>Long Integer</td>\n",
       "      <td>Taxable Amount</td>\n",
       "    </tr>\n",
       "    <tr>\n",
       "      <th>18</th>\n",
       "      <td>ASMT_EXEMPT_AMT</td>\n",
       "      <td>0</td>\n",
       "      <td>Long Integer</td>\n",
       "      <td>Exempt Amount</td>\n",
       "    </tr>\n",
       "    <tr>\n",
       "      <th>19</th>\n",
       "      <td>NBHD_1</td>\n",
       "      <td>4</td>\n",
       "      <td>double</td>\n",
       "      <td>Neighborhood code</td>\n",
       "    </tr>\n",
       "    <tr>\n",
       "      <th>20</th>\n",
       "      <td>NBHD_1_CN</td>\n",
       "      <td>GATEWAY N</td>\n",
       "      <td>Text</td>\n",
       "      <td>Neighborhood name</td>\n",
       "    </tr>\n",
       "    <tr>\n",
       "      <th>21</th>\n",
       "      <td>LEGL_DESCRIPTION</td>\n",
       "      <td>NaN</td>\n",
       "      <td>Text</td>\n",
       "      <td>Description of the parcel per the deed</td>\n",
       "    </tr>\n",
       "  </tbody>\n",
       "</table>\n",
       "</div>"
      ],
      "text/plain": [
       "          Field Name    Example    Column Type  \\\n",
       "0                PIN  161714761           Text   \n",
       "1          LAND_SQFT       6241   Long Integer   \n",
       "2           AREA_ABG       1411   Long Integer   \n",
       "3          BSMT_AREA        389   Long Integer   \n",
       "4         FBSMT_SQFT        389   Long Integer   \n",
       "5           GRD_AREA          0   Long Integer   \n",
       "6              STORY          1          Float   \n",
       "7           STYLE_CN  TWO-STORY           Text   \n",
       "8            BED_RMS          3  Short Integer   \n",
       "9             FULL_B          2  Short Integer   \n",
       "10             HLF_B          1  Short Integer   \n",
       "11           CCYRBLT       1958   Long Integer   \n",
       "12          CCAGE_RM       2004   Long Integer   \n",
       "13    ASMT_APPR_LAND      62400   Long Integer   \n",
       "14       TOTAL_VALUE     261700   Long Integer   \n",
       "15           ASDLAND      18096   Long Integer   \n",
       "16      ASSESS_VALUE      75893   Long Integer   \n",
       "17      ASMT_TAXABLE     524220   Long Integer   \n",
       "18   ASMT_EXEMPT_AMT          0   Long Integer   \n",
       "19            NBHD_1          4         double   \n",
       "20         NBHD_1_CN  GATEWAY N           Text   \n",
       "21  LEGL_DESCRIPTION        NaN           Text   \n",
       "\n",
       "                                  Description  \n",
       "0   Assessor's Property Identification Number  \n",
       "1                                   Land Area  \n",
       "2                Above Grade Improvement Area  \n",
       "3                     Basement Square Footage  \n",
       "4                      Finished Basement Area  \n",
       "5                 Garden Level Square Footage  \n",
       "6                                     Stories  \n",
       "7          Architecture Style Code Definition  \n",
       "8               Number of bedroom above grade  \n",
       "9                  Total number of full baths  \n",
       "10                 Total number of half baths  \n",
       "11                                 Year Built  \n",
       "12                               Remodel Year  \n",
       "13                          Actual Land Value  \n",
       "14                         Actual Total Value  \n",
       "15                        Assessed Land Value  \n",
       "16                       Assessed Total Value  \n",
       "17                             Taxable Amount  \n",
       "18                              Exempt Amount  \n",
       "19                         Neighborhood code   \n",
       "20                          Neighborhood name  \n",
       "21    Description of the parcel per the deed   "
      ]
     },
     "execution_count": 4,
     "metadata": {},
     "output_type": "execute_result"
    }
   ],
   "source": [
    "characteristics_dict = pd.read_excel('datasets/RealPropertyMetaData.xlsx', \n",
    "                                     sheetname='Residential_Characteristics', \n",
    "                                     header=3, \n",
    "                                     parse_cols=[1,2,3,5],\n",
    "                                     skiprows=[5,6,7,8,9,10,11,12,13,14,15,16, 17,18,19,20,21,22,23,24,25,26,27,40])\n",
    "characteristics_dict"
   ]
  },
  {
   "cell_type": "markdown",
   "metadata": {},
   "source": [
    "## 3. Data Wrangling\n",
    "\n",
    "### Filtering the dataset to only show single family home sales\n",
    "\n",
    "All property types are included in this dataset, but I'm not interested in commercial properties or apartments, so I'm going to filter all of those out and only keep the records of single family homes.\n",
    "\n",
    "I'm also going to remove any records that have a sale price less than \\$100,000 and more than \\$500,000. Anything with a sale price less than \\$50,000 indicates to me that there are some issues with the data and anything over \\$500,000 is way out of my range. The next plot shows that while the number of home sales has fluctuated from year to year, the mean sale price has consistently gone up since 2009.\n",
    "\n",
    "That leaves me with just under 64,000 records to work with.\n",
    "\n",
    "A quick look at the number of home sales and transfers each year shows that 2013 and 2014 were the biggest years in the dataset in terms of volume. The volume in 2015 decreased slightly. \n",
    "\n",
    "_Note: The dip in 2016 sales and transfers can be attributed to incomplete data since the year isn't complete._"
   ]
  },
  {
   "cell_type": "code",
   "execution_count": 5,
   "metadata": {
    "collapsed": false
   },
   "outputs": [
    {
     "data": {
      "text/plain": [
       "(58615, 16)"
      ]
     },
     "execution_count": 5,
     "metadata": {},
     "output_type": "execute_result"
    }
   ],
   "source": [
    "single_family_home = 'SINGLE FAMILY'\n",
    "\n",
    "df_sales = df_sales[df_sales.D_CLASS_CN == single_family_home]\n",
    "df_sales.shape\n",
    "\n",
    "df_sales = df_sales[(df_sales.SALE_PRICE > 100000) & (df_sales.SALE_PRICE < 500000)]\n",
    "df_sales.shape"
   ]
  },
  {
   "cell_type": "markdown",
   "metadata": {},
   "source": [
    "### Adding datetime and setting it as the index\n",
    "\n",
    "It would also be interesting to dig a little deeper into the trends that might exist in sales and transfers over time. In order to do this, I'll need to convert the SALE_YEAR and SALE_MONTHDAY columns into a new column with datetime formatting. "
   ]
  },
  {
   "cell_type": "code",
   "execution_count": 6,
   "metadata": {
    "collapsed": true
   },
   "outputs": [],
   "source": [
    "days = []\n",
    "months = []\n",
    "years = df_sales.SALE_YEAR.astype(str)\n",
    "datetimes = []\n",
    "\n",
    "for row in df_sales.SALE_MONTHDAY:\n",
    "    row = str(row)\n",
    "    if len(row) < 4:\n",
    "        row = '0' + row\n",
    "    days.append(row[:-2])\n",
    "    months.append(row[2:])\n",
    "    \n",
    "df_sales['date'] = years + '-' + months + '-' + days\n",
    "\n",
    "df_sales['date'] = pd.to_datetime(df_sales['date'], format='%Y-%d-%m')\n",
    "\n",
    "df_sales.index = df_sales.date\n",
    "\n",
    "df_sales['year'] = df_sales.index.year\n",
    "df_sales['month'] = df_sales.index.month\n",
    "df_sales['day'] = df_sales.index.day"
   ]
  },
  {
   "cell_type": "markdown",
   "metadata": {},
   "source": [
    "### Combining the two datasets\n",
    "\n",
    "I also need to add any matching records in the characteristics dataset to the sales dataset. Since I don't care about any records in the characteristics dataset that aren't also in the sales dataset, they will simply be dropped. Both datasets have a matching PIN column, which is a unique identifier for each property, that will be used to join them."
   ]
  },
  {
   "cell_type": "code",
   "execution_count": 7,
   "metadata": {
    "collapsed": true
   },
   "outputs": [],
   "source": [
    "df_full_info = df_sales.merge(df_characteristics, how='left', on='PIN')\n",
    "df_full_info.dropna(inplace=True)"
   ]
  },
  {
   "cell_type": "markdown",
   "metadata": {},
   "source": [
    "## 4. Exploratory Data Analysis"
   ]
  },
  {
   "cell_type": "markdown",
   "metadata": {},
   "source": [
    "Comparing the number of monthly sales each year shows that there is a trend of more sales in the spring and summer compared to fall and winter."
   ]
  },
  {
   "cell_type": "code",
   "execution_count": 8,
   "metadata": {
    "collapsed": false
   },
   "outputs": [
    {
     "data": {
      "image/png": "[encoded data removed]",
      "text/plain": [
       "<matplotlib.figure.Figure at 0x1147b470>"
      ]
     },
     "metadata": {},
     "output_type": "display_data"
    }
   ],
   "source": [
    "#TODO: Replace x axis markers (1-12) with month names\n",
    "fig = plt.figure(figsize=(16,8))\n",
    "ax = sns.countplot(x=\"month\", hue=\"year\", data=df_sales, palette=\"Set1\")\n",
    "\n",
    "plt.show()"
   ]
  },
  {
   "cell_type": "markdown",
   "metadata": {},
   "source": [
    "Looking at the sales for just the seasons illustrates this trend more clearly."
   ]
  },
  {
   "cell_type": "code",
   "execution_count": 9,
   "metadata": {
    "collapsed": false
   },
   "outputs": [
    {
     "data": {
      "image/png": "[encoded data removed]",
      "text/plain": [
       "<matplotlib.figure.Figure at 0x11480940>"
      ]
     },
     "metadata": {},
     "output_type": "display_data"
    }
   ],
   "source": [
    "#TODO: Put seasons in order: Winter, Spring, Summer, Fall\n",
    "#TODO: Capitalize seasons\n",
    "season = []\n",
    "\n",
    "for m in df_full_info.month:\n",
    "    if m in (3,4,5):\n",
    "        season.append('spring')\n",
    "    elif m in (6,7,8):\n",
    "        season.append('summer')\n",
    "    elif m in (9, 10, 11):\n",
    "        season.append('fall')\n",
    "    elif m in (12, 1, 2):\n",
    "        season.append('winter')\n",
    "\n",
    "df_full_info['season'] = season\n",
    "\n",
    "sns.countplot(x='season', data=df_full_info);"
   ]
  },
  {
   "cell_type": "markdown",
   "metadata": {},
   "source": [
    "So, the number of sales is higher in the Spring and Summer, but what about the mean sale price of homes? As the two plots below illustrate, the mean sale price of homes is also higher in Spring and Summer."
   ]
  },
  {
   "cell_type": "code",
   "execution_count": 10,
   "metadata": {
    "collapsed": false
   },
   "outputs": [
    {
     "data": {
      "image/png": "[encoded data removed]",
      "text/plain": [
       "<matplotlib.figure.Figure at 0x11480278>"
      ]
     },
     "metadata": {},
     "output_type": "display_data"
    }
   ],
   "source": [
    "#TODO: Change x axis markers from 1-12 to January-December\n",
    "df_full_info.groupby('month').SALE_PRICE.mean().plot(kind='bar');"
   ]
  },
  {
   "cell_type": "code",
   "execution_count": 11,
   "metadata": {
    "collapsed": false
   },
   "outputs": [
    {
     "data": {
      "image/png": "[encoded data removed]",
      "text/plain": [
       "<matplotlib.figure.Figure at 0x11480a58>"
      ]
     },
     "metadata": {},
     "output_type": "display_data"
    }
   ],
   "source": [
    "#TODO: put seasons in order Winter, Spring, Summer, Fall\n",
    "#TODO: capitalize seasons on x axis\n",
    "df_full_info.groupby('season').SALE_PRICE.mean().plot(kind='bar');"
   ]
  },
  {
   "cell_type": "markdown",
   "metadata": {},
   "source": [
    "The first plot below shows the mean sale price in Denver has been steadily increasing each year since 2009. In 2009 the mean sale price of a single family home in Denver was around \\$233,000 and so far in 2016, the mean sale price is almost \\$327,000. Assuming an increase in sale prices is correlated with an increase in the popularity of a neighborhood, seeing which neighborhoods have the largest increase in mean price should also give us an idea of which neighborhoods have become more popular over the past six years."
   ]
  },
  {
   "cell_type": "code",
   "execution_count": 12,
   "metadata": {
    "collapsed": false
   },
   "outputs": [
    {
     "data": {
      "image/png": "[encoded data removed]",
      "text/plain": [
       "<matplotlib.figure.Figure at 0x10b7bac8>"
      ]
     },
     "metadata": {},
     "output_type": "display_data"
    }
   ],
   "source": [
    "df_sales.groupby('SALE_YEAR')['SALE_PRICE'].mean().plot('bar', figsize=(14,5), title=\"Mean Sale Price by Year\");"
   ]
  },
  {
   "cell_type": "code",
   "execution_count": 13,
   "metadata": {
    "collapsed": false,
    "scrolled": false
   },
   "outputs": [
    {
     "data": {
      "text/html": [
       "<div>\n",
       "<table border=\"1\" class=\"dataframe\">\n",
       "  <thead>\n",
       "    <tr style=\"text-align: right;\">\n",
       "      <th>year</th>\n",
       "      <th>2008</th>\n",
       "      <th>2009</th>\n",
       "      <th>2010</th>\n",
       "      <th>2011</th>\n",
       "      <th>2012</th>\n",
       "      <th>2013</th>\n",
       "      <th>2014</th>\n",
       "      <th>2015</th>\n",
       "      <th>2016</th>\n",
       "    </tr>\n",
       "    <tr>\n",
       "      <th>NBHD_1_CN</th>\n",
       "      <th></th>\n",
       "      <th></th>\n",
       "      <th></th>\n",
       "      <th></th>\n",
       "      <th></th>\n",
       "      <th></th>\n",
       "      <th></th>\n",
       "      <th></th>\n",
       "      <th></th>\n",
       "    </tr>\n",
       "  </thead>\n",
       "  <tbody>\n",
       "    <tr>\n",
       "      <th>ACADEMY</th>\n",
       "      <td>179833.333</td>\n",
       "      <td>198112.500</td>\n",
       "      <td>197100.000</td>\n",
       "      <td>209625.000</td>\n",
       "      <td>202700.000</td>\n",
       "      <td>198291.667</td>\n",
       "      <td>252405.556</td>\n",
       "      <td>283030.769</td>\n",
       "      <td>323390.000</td>\n",
       "    </tr>\n",
       "    <tr>\n",
       "      <th>ARAPAHOE SQUARE</th>\n",
       "      <td>nan</td>\n",
       "      <td>nan</td>\n",
       "      <td>nan</td>\n",
       "      <td>nan</td>\n",
       "      <td>nan</td>\n",
       "      <td>nan</td>\n",
       "      <td>nan</td>\n",
       "      <td>nan</td>\n",
       "      <td>261000.000</td>\n",
       "    </tr>\n",
       "    <tr>\n",
       "      <th>ATHMAR PARK</th>\n",
       "      <td>141321.394</td>\n",
       "      <td>142407.646</td>\n",
       "      <td>138224.662</td>\n",
       "      <td>134638.915</td>\n",
       "      <td>148005.325</td>\n",
       "      <td>170305.476</td>\n",
       "      <td>199156.015</td>\n",
       "      <td>231378.642</td>\n",
       "      <td>263607.636</td>\n",
       "    </tr>\n",
       "    <tr>\n",
       "      <th>AVONDALE</th>\n",
       "      <td>159305.824</td>\n",
       "      <td>175404.000</td>\n",
       "      <td>177295.125</td>\n",
       "      <td>200046.938</td>\n",
       "      <td>210039.263</td>\n",
       "      <td>227712.567</td>\n",
       "      <td>297735.294</td>\n",
       "      <td>313136.667</td>\n",
       "      <td>338210.526</td>\n",
       "    </tr>\n",
       "    <tr>\n",
       "      <th>BAKER</th>\n",
       "      <td>272154.672</td>\n",
       "      <td>272373.648</td>\n",
       "      <td>280244.500</td>\n",
       "      <td>298928.809</td>\n",
       "      <td>312535.152</td>\n",
       "      <td>351710.509</td>\n",
       "      <td>370989.022</td>\n",
       "      <td>370359.147</td>\n",
       "      <td>423445.833</td>\n",
       "    </tr>\n",
       "  </tbody>\n",
       "</table>\n",
       "</div>"
      ],
      "text/plain": [
       "year                  2008       2009       2010       2011       2012  \\\n",
       "NBHD_1_CN                                                                \n",
       "ACADEMY         179833.333 198112.500 197100.000 209625.000 202700.000   \n",
       "ARAPAHOE SQUARE        nan        nan        nan        nan        nan   \n",
       "ATHMAR PARK     141321.394 142407.646 138224.662 134638.915 148005.325   \n",
       "AVONDALE        159305.824 175404.000 177295.125 200046.938 210039.263   \n",
       "BAKER           272154.672 272373.648 280244.500 298928.809 312535.152   \n",
       "\n",
       "year                  2013       2014       2015       2016  \n",
       "NBHD_1_CN                                                    \n",
       "ACADEMY         198291.667 252405.556 283030.769 323390.000  \n",
       "ARAPAHOE SQUARE        nan        nan        nan 261000.000  \n",
       "ATHMAR PARK     170305.476 199156.015 231378.642 263607.636  \n",
       "AVONDALE        227712.567 297735.294 313136.667 338210.526  \n",
       "BAKER           351710.509 370989.022 370359.147 423445.833  "
      ]
     },
     "execution_count": 13,
     "metadata": {},
     "output_type": "execute_result"
    }
   ],
   "source": [
    "nbhd_yearly_sale_means = df_full_info.groupby(['NBHD_1_CN', 'year']).SALE_PRICE.mean()\n",
    "\n",
    "nbhd_yearly_sale_means = nbhd_yearly_sale_means.unstack()\n",
    "nbhd_yearly_sale_means.head()"
   ]
  },
  {
   "cell_type": "code",
   "execution_count": 14,
   "metadata": {
    "collapsed": false
   },
   "outputs": [
    {
     "data": {
      "image/png": "[encoded data removed]",
      "text/plain": [
       "<matplotlib.figure.Figure at 0x108c2128>"
      ]
     },
     "metadata": {},
     "output_type": "display_data"
    }
   ],
   "source": [
    "#TODO: change the x axis markers from 0-8 to 2009-2016.\n",
    "nbhd_yearly_sale_means['2009 to 2016 difference'] = nbhd_yearly_sale_means[2016] - nbhd_yearly_sale_means[2009]\n",
    "\n",
    "ax = nbhd_yearly_sale_means.sort_values(by='2009 to 2016 difference', ascending=False).drop('2009 to 2016 difference', axis=1).head(10).transpose().plot(figsize=(12, 4));\n",
    "plt.title('Top 10 Neighborhoods with the Largest Increase in Mean Sale Price')\n",
    "plt.legend(loc=0, fontsize='small');"
   ]
  },
  {
   "cell_type": "markdown",
   "metadata": {},
   "source": [
    "The plot above shows the ten neighborhoods with the largest increase in mean sale price from 2009 to 2016. As a prospective home buyer, a popular neighborhood is nice, but so is a lower home price, so it's good to see that the most popular neighborhoods have an almost \\$100,000 range in mean price."
   ]
  },
  {
   "cell_type": "markdown",
   "metadata": {},
   "source": [
    "## 5. Modelling\n",
    "\n",
    "Now that I have an idea of some of the general trends in the data, I'll want to work on a model to help predict the final sale price of a property. First, the feature variables need to be separated from the outcome variable (sale price). The categorical feature variables will also be divided into dummy variables in order for the regression to work properly."
   ]
  },
  {
   "cell_type": "code",
   "execution_count": 15,
   "metadata": {
    "collapsed": true
   },
   "outputs": [],
   "source": [
    "all_features = df_full_info.drop('SALE_PRICE', axis=1)\n",
    "numerical_features = all_features.select_dtypes(exclude=['object', 'datetime64'])\n",
    "\n",
    "X_features = numerical_features.dropna()\n",
    "y = df_full_info['SALE_PRICE']\n",
    "\n",
    "month_dummies = pd.get_dummies(df_full_info.month, prefix='month', drop_first=True)\n",
    "nbhd_dummies = pd.get_dummies(df_full_info.NBHD_1_CN, prefix = 'nbhd', drop_first=True)\n",
    "story_dummies = pd.get_dummies(df_full_info.STORY, prefix = 'story', drop_first=True)\n",
    "season_dummies = pd.get_dummies(df_full_info.season, prefix = 'season', drop_first=True)\n",
    "\n",
    "features = ['AREA_ABG', 'BSMT_AREA', 'ASMT_TAXABLE', 'GRD_AREA', 'CCYRBLT', 'year', 'LAND_SQFT', 'FBSMT_SQFT', 'BED_RMS', 'FULL_B', 'HLF_B', 'CCAGE_RM']\n",
    "\n",
    "X = df_full_info[features]\n",
    "X = pd.concat([X, nbhd_dummies, story_dummies, month_dummies, season_dummies], axis=1)"
   ]
  },
  {
   "cell_type": "markdown",
   "metadata": {},
   "source": [
    "Now, the data will be split into training and validation sets. The training set will be used to refine the models, and once the refinement is done, the validation set will be used to see how accurate the model is with new data."
   ]
  },
  {
   "cell_type": "code",
   "execution_count": 16,
   "metadata": {
    "collapsed": true
   },
   "outputs": [],
   "source": [
    "X_train, X_validate, y_train, y_validate = train_test_split(X, y, test_size=.33, random_state=42)"
   ]
  },
  {
   "cell_type": "markdown",
   "metadata": {},
   "source": [
    "### Linear Regression"
   ]
  },
  {
   "cell_type": "markdown",
   "metadata": {},
   "source": [
    "The first model I'm going to run on the data is a linear regression. First I'll split the data into training and testing sets. Then I'll run a 10 fold cross-validation on the training set. The metric I'm most interested in at this point is the root mean squared error, wich will tell me the mean error of the model in actual dollars. I also want to compare the r-squared of the model on a training and testing set to make sure it isn't overfitting to the training data, so the function below divides the data into those sets."
   ]
  },
  {
   "cell_type": "code",
   "execution_count": 17,
   "metadata": {
    "collapsed": false
   },
   "outputs": [],
   "source": [
    "def linear_model(X, y, n_folds=4, random_state=42):\n",
    "    y_train_true = []\n",
    "    y_train_pred = []\n",
    "    y_test_true = []\n",
    "    y_test_pred = []\n",
    "\n",
    "    folds = KFold(y.size, n_folds=n_folds, random_state=42)\n",
    "\n",
    "    for train, test in folds:\n",
    "        model = LinearRegression()\n",
    "        model.fit(X.iloc[train], y.iloc[train])\n",
    "        \n",
    "        [y_train_true.append(t) for t in y.iloc[train]]\n",
    "        [y_train_pred.append(t) for t in model.predict(X.iloc[train])]\n",
    "        [y_test_true.append(result) for result in y.iloc[test]]\n",
    "        [y_test_pred.append(result) for result in model.predict(X.iloc[test])] \n",
    "    \n",
    "    rsquared_train = metrics.r2_score(y_train_true, y_train_pred)\n",
    "    rsquared_test  = metrics.r2_score(y_test_true, y_test_pred)\n",
    "    rmse_train = np.sqrt(mean_squared_error(y_train_true, y_train_pred))\n",
    "    rmse_test = np.sqrt(mean_squared_error(y_test_true, y_test_pred))   \n",
    "    \n",
    "    return pd.DataFrame({\n",
    "            \"R^2 Train\": rsquared_train, \n",
    "            \"R^2 Test\": rsquared_test, \n",
    "            \"RMSE Train\": rmse_train,\n",
    "            \"RMSE Test\": rmse_test\n",
    "        }, index=[model.__class__.__name__])"
   ]
  },
  {
   "cell_type": "code",
   "execution_count": 18,
   "metadata": {
    "collapsed": false
   },
   "outputs": [
    {
     "data": {
      "text/html": [
       "<div>\n",
       "<table border=\"1\" class=\"dataframe\">\n",
       "  <thead>\n",
       "    <tr style=\"text-align: right;\">\n",
       "      <th></th>\n",
       "      <th>RMSE Test</th>\n",
       "      <th>RMSE Train</th>\n",
       "      <th>R^2 Test</th>\n",
       "      <th>R^2 Train</th>\n",
       "    </tr>\n",
       "  </thead>\n",
       "  <tbody>\n",
       "    <tr>\n",
       "      <th>LinearRegression</th>\n",
       "      <td>61285.990</td>\n",
       "      <td>60877.510</td>\n",
       "      <td>0.663</td>\n",
       "      <td>0.668</td>\n",
       "    </tr>\n",
       "  </tbody>\n",
       "</table>\n",
       "</div>"
      ],
      "text/plain": [
       "                  RMSE Test  RMSE Train  R^2 Test  R^2 Train\n",
       "LinearRegression  61285.990   60877.510     0.663      0.668"
      ]
     },
     "execution_count": 18,
     "metadata": {},
     "output_type": "execute_result"
    }
   ],
   "source": [
    "linear_model(X_train, y_train, n_folds=10)"
   ]
  },
  {
   "cell_type": "markdown",
   "metadata": {},
   "source": [
    "Not great, but it's a starting point. A few attempts at improving the linear model didn't make great gains, so I'm going to try a random forest model as an alternative."
   ]
  },
  {
   "cell_type": "code",
   "execution_count": 19,
   "metadata": {
    "collapsed": true
   },
   "outputs": [],
   "source": [
    "from sklearn.ensemble import RandomForestRegressor"
   ]
  },
  {
   "cell_type": "code",
   "execution_count": 20,
   "metadata": {
    "collapsed": true
   },
   "outputs": [],
   "source": [
    "def forest_model(X, y, max_features='auto', \n",
    "                       max_depth=None,\n",
    "                       test_size=.33, \n",
    "                       n_folds=4, \n",
    "                       min_samples_split=2,\n",
    "                       min_samples_leaf=1,\n",
    "                       random_state=42):\n",
    "    y_train_true = []\n",
    "    y_train_pred = []\n",
    "    y_test_true = []\n",
    "    y_test_pred = []\n",
    "    \n",
    "    folds = KFold(y.size, n_folds=n_folds, random_state=random_state)\n",
    "\n",
    "    for train, test in folds:\n",
    "        forest = RandomForestRegressor(max_features=max_features, \n",
    "                                       max_depth=max_depth, \n",
    "                                       random_state=random_state,\n",
    "                                       min_samples_split=min_samples_split, \n",
    "                                       min_samples_leaf=min_samples_leaf)\n",
    "        forest.fit(X.iloc[train], y.iloc[train])\n",
    "        \n",
    "        [y_train_true.append(t) for t in y.iloc[train]]\n",
    "        [y_train_pred.append(t) for t in forest.predict(X.iloc[train])]\n",
    "        [y_test_true.append(result) for result in y.iloc[test]]\n",
    "        [y_test_pred.append(result) for result in forest.predict(X.iloc[test])]\n",
    "    \n",
    "    rsquared_train = metrics.r2_score(y_train_true, y_train_pred)\n",
    "    rsquared_test  = metrics.r2_score(y_test_true, y_test_pred)\n",
    "    rmse_train = np.sqrt(mean_squared_error(y_train_true, y_train_pred))\n",
    "    rmse_test = np.sqrt(mean_squared_error(y_test_true, y_test_pred))   \n",
    "    \n",
    "    return pd.DataFrame({\n",
    "            \"R^2 Train\": rsquared_train, \n",
    "            \"R^2 Test\": rsquared_test, \n",
    "            \"RMSE Train\": rmse_train,\n",
    "            \"RMSE Test\": rmse_test\n",
    "        }, index=[model.__class__.__name__])"
   ]
  },
  {
   "cell_type": "code",
   "execution_count": 21,
   "metadata": {
    "collapsed": false
   },
   "outputs": [
    {
     "ename": "NameError",
     "evalue": "global name 'model' is not defined",
     "output_type": "error",
     "traceback": [
      "\u001b[1;31m---------------------------------------------------------------------------\u001b[0m",
      "\u001b[1;31mNameError\u001b[0m                                 Traceback (most recent call last)",
      "\u001b[1;32m<ipython-input-21-c6277d661321>\u001b[0m in \u001b[0;36m<module>\u001b[1;34m()\u001b[0m\n\u001b[1;32m----> 1\u001b[1;33m \u001b[0mforest_model\u001b[0m\u001b[1;33m(\u001b[0m\u001b[0mX_train\u001b[0m\u001b[1;33m,\u001b[0m \u001b[0my_train\u001b[0m\u001b[1;33m)\u001b[0m\u001b[1;33m\u001b[0m\u001b[0m\n\u001b[0m",
      "\u001b[1;32m<ipython-input-20-45b4de97e3cc>\u001b[0m in \u001b[0;36mforest_model\u001b[1;34m(X, y, max_features, max_depth, test_size, n_folds, min_samples_split, min_samples_leaf, random_state)\u001b[0m\n\u001b[0;32m     36\u001b[0m             \u001b[1;34m\"RMSE Train\"\u001b[0m\u001b[1;33m:\u001b[0m \u001b[0mrmse_train\u001b[0m\u001b[1;33m,\u001b[0m\u001b[1;33m\u001b[0m\u001b[0m\n\u001b[0;32m     37\u001b[0m             \u001b[1;34m\"RMSE Test\"\u001b[0m\u001b[1;33m:\u001b[0m \u001b[0mrmse_test\u001b[0m\u001b[1;33m\u001b[0m\u001b[0m\n\u001b[1;32m---> 38\u001b[1;33m         }, index=[model.__class__.__name__])\n\u001b[0m",
      "\u001b[1;31mNameError\u001b[0m: global name 'model' is not defined"
     ]
    }
   ],
   "source": [
    "forest_model(X_train, y_train)"
   ]
  },
  {
   "cell_type": "markdown",
   "metadata": {},
   "source": [
    "The random forest model performs significantly better than the linear model even though it is currently overfitting on the training data, so I'm going to focus my efforts on refining that model. My next test will be to put the feature variables into a K-Means clustering model."
   ]
  },
  {
   "cell_type": "code",
   "execution_count": null,
   "metadata": {
    "collapsed": true
   },
   "outputs": [],
   "source": [
    "from sklearn import cluster"
   ]
  },
  {
   "cell_type": "code",
   "execution_count": null,
   "metadata": {
    "collapsed": false
   },
   "outputs": [],
   "source": [
    "kmeans = cluster.KMeans(n_clusters=5, n_init=10, init='random')\n",
    "cluster_predictions = kmeans.fit_predict(df_full_info[features])\n",
    "df_full_info['cluster'] = cluster_predictions"
   ]
  },
  {
   "cell_type": "code",
   "execution_count": null,
   "metadata": {
    "collapsed": true
   },
   "outputs": [],
   "source": [
    "cluster_dummies = pd.get_dummies(df_full_info.loc[X_train.index].cluster, prefix='cluster', drop_first=True)\n",
    "\n",
    "X_train_cluster = pd.concat([X_train, cluster_dummies], axis=1)"
   ]
  },
  {
   "cell_type": "code",
   "execution_count": null,
   "metadata": {
    "collapsed": false
   },
   "outputs": [],
   "source": [
    "forest_model(X_train_cluster, y_train)"
   ]
  },
  {
   "cell_type": "markdown",
   "metadata": {},
   "source": [
    "That actually made my model slightly _less_ accurate, so I chose to spend my time refining the parameters of the original modelstick with the original model and instead spend my"
   ]
  },
  {
   "cell_type": "markdown",
   "metadata": {},
   "source": [
    "### Feature Correlations\n",
    "\n",
    "Next we're going to have a look at all of the features and whether any are highly correlated with each other. If they are, then removing those highly correlated features should help to improve the model."
   ]
  },
  {
   "cell_type": "code",
   "execution_count": null,
   "metadata": {
    "collapsed": false
   },
   "outputs": [],
   "source": [
    "plt.figure(figsize=(15,12))\n",
    "ax = sns.heatmap(X_features.corr())\n",
    "plt.title(\"Feature Correlations\")\n",
    "\n",
    "plt.show()"
   ]
  },
  {
   "cell_type": "markdown",
   "metadata": {},
   "source": [
    "The correlation heatmap above shows that there are definitely variables that are highly correlated with each other and should be dropped. After looking through the heatmap, I have chosen to keep the following variables:"
   ]
  },
  {
   "cell_type": "code",
   "execution_count": null,
   "metadata": {
    "collapsed": false
   },
   "outputs": [],
   "source": [
    "features = ['AREA_ABG', \n",
    "            'BSMT_AREA', \n",
    "            'ASMT_TAXABLE', \n",
    "            'CCYRBLT', \n",
    "            'year', \n",
    "            'LAND_SQFT', \n",
    "            'BED_RMS', \n",
    "            'FULL_B', \n",
    "            'CCAGE_RM']\n",
    "\n",
    "X = X_features[features]\n",
    "X = pd.concat([X, month_dummies, nbhd_dummies], axis=1)\n",
    "y = df_full_info['SALE_PRICE']"
   ]
  },
  {
   "cell_type": "code",
   "execution_count": null,
   "metadata": {
    "collapsed": true
   },
   "outputs": [],
   "source": [
    "X_train, X_validate, y_train, y_validate = train_test_split(X, y, test_size=.33, random_state=42)"
   ]
  },
  {
   "cell_type": "code",
   "execution_count": null,
   "metadata": {
    "collapsed": false
   },
   "outputs": [],
   "source": [
    "forest_model(X_train, y_train)"
   ]
  },
  {
   "cell_type": "markdown",
   "metadata": {},
   "source": [
    "It's still overfitting, but it does perform slightly better with the reduced features. After working on tuning the model, I ended up with the following:"
   ]
  },
  {
   "cell_type": "code",
   "execution_count": null,
   "metadata": {
    "collapsed": false
   },
   "outputs": [],
   "source": [
    "forest_model(X_train, y_train, max_features=140, \n",
    "                       max_depth=30,\n",
    "                       min_samples_split=70,\n",
    "                       min_samples_leaf=4)"
   ]
  },
  {
   "cell_type": "markdown",
   "metadata": {},
   "source": [
    "Now let's run the model with the validation data we set aside at the beginning of the modelling phase."
   ]
  },
  {
   "cell_type": "code",
   "execution_count": null,
   "metadata": {
    "collapsed": false
   },
   "outputs": [],
   "source": [
    "forest_model(X_validate, y_validate, max_features=140, \n",
    "                       max_depth=30,\n",
    "                       min_samples_split=70,\n",
    "                       min_samples_leaf=4)"
   ]
  },
  {
   "cell_type": "markdown",
   "metadata": {},
   "source": [
    "The results of the model are very close to the training data, which gives me confidence that the model works well with new data."
   ]
  },
  {
   "cell_type": "markdown",
   "metadata": {},
   "source": [
    "## 6. Takeaways"
   ]
  },
  {
   "cell_type": "markdown",
   "metadata": {
    "collapsed": true
   },
   "source": [
    "One of the main takeaways from the analysis is that seasons affect both the number of houses sold and the mean price of those houses. For the best deals, I would recommend for myself or any new home buyer to wait until the Winter months to purchase a home. One caveat to this recommendation is that the dataset doesn't contain any information about the number of homes for sale throughout the year, but I would assume there are fewer for sale as well. There's also the issue of moving in the middle of winter, but if you can find a home you would like to live in, it could save you \\$25,000-\\$30000 dollars.\n",
    "\n",
    "Based on the yearly comparisons, Denver is a popular city at the moment, but there are neighborhoods along a spectrum of price ranges that seem to be gaining in popularity and are worth a look."
   ]
  },
  {
   "cell_type": "markdown",
   "metadata": {},
   "source": [
    "## 7. Next Steps"
   ]
  },
  {
   "cell_type": "markdown",
   "metadata": {
    "collapsed": true
   },
   "source": [
    "My next step for improving the accuracy of the model is to incorporate additional data. Denver's open data catalog includes two datasets that are of particular interest. The first is a [crime dataset](https://www.denvergov.org/opendata/dataset/city-and-county-of-denver-crime) that contains information on crimes in the current calendar year as well as the previous five years. The second dataset is the [American Community Survey Nbrhd (2010-2014)](https://www.denvergov.org/opendata/dataset/city-and-county-of-denver-american-community-survey-nbrhd-2010-2014) dataset. It contains neighborhood level demographic information collected from the [American Community Survey](http://www.census.gov/programs-surveys/acs/).\n",
    "\n",
    "Another next step I would like to take with this data is to plot it geographically and begin to explore the spacial relationships in the data. Many of the datasets on Denver's open data catalog contain shapefiles that should make it an achievable goal."
   ]
  },
  {
   "cell_type": "code",
   "execution_count": null,
   "metadata": {
    "collapsed": true
   },
   "outputs": [],
   "source": []
  }
 ],
 "metadata": {
  "anaconda-cloud": {},
  "kernelspec": {
   "display_name": "Python 2",
   "language": "python",
   "name": "python2"
  },
  "language_info": {
   "codemirror_mode": {
    "name": "ipython",
    "version": 2
   },
   "file_extension": ".py",
   "mimetype": "text/x-python",
   "name": "python",
   "nbconvert_exporter": "python",
   "pygments_lexer": "ipython2",
   "version": "2.7.12"
  }
 },
 "nbformat": 4,
 "nbformat_minor": 1
}
